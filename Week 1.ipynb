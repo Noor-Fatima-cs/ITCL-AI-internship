{
 "cells": [
  {
   "cell_type": "code",
   "execution_count": 1,
   "id": "837eb44e-a4d9-440c-aa8c-46ec3d60c5c7",
   "metadata": {},
   "outputs": [
    {
     "name": "stdout",
     "output_type": "stream",
     "text": [
      "Requirement already satisfied: numpy in c:\\users\\mashallah\\anaconda3\\lib\\site-packages (1.26.4)\n"
     ]
    }
   ],
   "source": [
    "!pip install numpy"
   ]
  },
  {
   "cell_type": "code",
   "execution_count": 3,
   "id": "f6cf4b06-cb38-4a37-8678-3fa1ba53e998",
   "metadata": {},
   "outputs": [],
   "source": [
    "import numpy as np"
   ]
  },
  {
   "cell_type": "code",
   "execution_count": 5,
   "id": "8a600b87-9ee9-48bc-a08a-6fc04c95fe6d",
   "metadata": {},
   "outputs": [
    {
     "name": "stdout",
     "output_type": "stream",
     "text": [
      "[1 2 3 4]\n"
     ]
    }
   ],
   "source": [
    "n= np.array((1,2,3,4))\n",
    "print(n)"
   ]
  },
  {
   "cell_type": "code",
   "execution_count": 7,
   "id": "bf5a8f15-78ab-4f49-82f2-9cb434f4199e",
   "metadata": {},
   "outputs": [
    {
     "name": "stdout",
     "output_type": "stream",
     "text": [
      "<class 'numpy.ndarray'>\n"
     ]
    }
   ],
   "source": [
    "print(type(n))"
   ]
  },
  {
   "cell_type": "code",
   "execution_count": 9,
   "id": "40788ba0-a1cb-4817-b6f2-6e99bd13290f",
   "metadata": {},
   "outputs": [
    {
     "name": "stdout",
     "output_type": "stream",
     "text": [
      "Matrix Addition:\n",
      " [[10 10 10]\n",
      " [10 10 10]\n",
      " [10 10 10]]\n",
      "\n",
      "Matrix Subtraction:\n",
      " [[-8 -6 -4]\n",
      " [-2  0  2]\n",
      " [ 4  6  8]]\n",
      "\n",
      "Element-wise Matrix Multiplication:\n",
      " [[ 9 16 21]\n",
      " [24 25 24]\n",
      " [21 16  9]]\n",
      "\n",
      "Matrix Dot Product:\n",
      " [[ 30  24  18]\n",
      " [ 84  69  54]\n",
      " [138 114  90]]\n",
      "\n",
      "Transpose of Matrix A:\n",
      " [[1 4 7]\n",
      " [2 5 8]\n",
      " [3 6 9]]\n",
      "\n",
      "Determinant of Matrix A: -9.51619735392994e-16\n"
     ]
    }
   ],
   "source": [
    "import numpy as np\n",
    "\n",
    "# Define two matrices\n",
    "A = np.array([[1, 2, 3], [4, 5, 6], [7, 8, 9]])\n",
    "B = np.array([[9, 8, 7], [6, 5, 4], [3, 2, 1]])\n",
    "\n",
    "# Matrix Addition\n",
    "addition_result = A + B\n",
    "print(\"Matrix Addition:\\n\", addition_result)\n",
    "\n",
    "# Matrix Subtraction\n",
    "subtraction_result = A - B\n",
    "print(\"\\nMatrix Subtraction:\\n\", subtraction_result)\n",
    "\n",
    "# Matrix Multiplication (Element-wise)\n",
    "multiplication_result = A * B\n",
    "print(\"\\nElement-wise Matrix Multiplication:\\n\", multiplication_result)\n",
    "\n",
    "# Matrix Dot Product\n",
    "dot_product_result = np.dot(A, B)\n",
    "print(\"\\nMatrix Dot Product:\\n\", dot_product_result)\n",
    "\n",
    "# Transpose of a Matrix\n",
    "transpose_A = A.T\n",
    "print(\"\\nTranspose of Matrix A:\\n\", transpose_A)\n",
    "\n",
    "# Determinant of a Matrix\n",
    "det_A = np.linalg.det(A)\n",
    "print(\"\\nDeterminant of Matrix A:\", det_A)\n"
   ]
  },
  {
   "cell_type": "code",
   "execution_count": 11,
   "id": "a91c8623-4366-4615-9f64-f1e877f31ea5",
   "metadata": {},
   "outputs": [
    {
     "name": "stdout",
     "output_type": "stream",
     "text": [
      "Initial Data Table:\n",
      "    Student  Math_Score  Science_Score  English_Score\n",
      "0    Alice          85             90             88\n",
      "1      Bob          78             82             79\n",
      "2  Charlie          92             95             85\n",
      "3    David          88             89             90\n",
      "4     Emma          76             80             84\n",
      "\n",
      "Students with Math Score > 80:\n",
      "    Student  Math_Score  Science_Score  English_Score\n",
      "0    Alice          85             90             88\n",
      "2  Charlie          92             95             85\n",
      "3    David          88             89             90\n",
      "\n",
      "Data Table with Average Score:\n",
      "    Student  Math_Score  Science_Score  English_Score  Average_Score\n",
      "0    Alice          85             90             88      87.666667\n",
      "1      Bob          78             82             79      79.666667\n",
      "2  Charlie          92             95             85      90.666667\n",
      "3    David          88             89             90      89.000000\n",
      "4     Emma          76             80             84      80.000000\n",
      "\n",
      "Mean Scores:\n",
      " Math_Score       83.8\n",
      "Science_Score    87.2\n",
      "English_Score    85.2\n",
      "Average_Score    85.4\n",
      "dtype: float64\n",
      "\n",
      "Median Scores:\n",
      " Math_Score       85.000000\n",
      "Science_Score    89.000000\n",
      "English_Score    85.000000\n",
      "Average_Score    87.666667\n",
      "dtype: float64\n"
     ]
    }
   ],
   "source": [
    "import pandas as pd\n",
    "\n",
    "# Create a simple dataset\n",
    "data = {\n",
    "    \"Student\": [\"Alice\", \"Bob\", \"Charlie\", \"David\", \"Emma\"],\n",
    "    \"Math_Score\": [85, 78, 92, 88, 76],\n",
    "    \"Science_Score\": [90, 82, 95, 89, 80],\n",
    "    \"English_Score\": [88, 79, 85, 90, 84]\n",
    "}\n",
    "\n",
    "df = pd.DataFrame(data)\n",
    "print(\"Initial Data Table:\\n\", df)\n",
    "\n",
    "# Filter rows where Math_Score is greater than 80\n",
    "high_math_scores = df[df[\"Math_Score\"] > 80]\n",
    "print(\"\\nStudents with Math Score > 80:\\n\", high_math_scores)\n",
    "\n",
    "# Add a new column for the average score\n",
    "df[\"Average_Score\"] = df[[\"Math_Score\", \"Science_Score\", \"English_Score\"]].mean(axis=1)\n",
    "print(\"\\nData Table with Average Score:\\n\", df)\n",
    "\n",
    "# Calculate basic statistics\n",
    "mean_scores = df.mean(numeric_only=True)\n",
    "median_scores = df.median(numeric_only=True)\n",
    "print(\"\\nMean Scores:\\n\", mean_scores)\n",
    "print(\"\\nMedian Scores:\\n\", median_scores)\n"
   ]
  },
  {
   "cell_type": "code",
   "execution_count": null,
   "id": "20d49afa-ce0c-457f-b713-dac4cc6cb9ca",
   "metadata": {},
   "outputs": [],
   "source": []
  }
 ],
 "metadata": {
  "kernelspec": {
   "display_name": "Python [conda env:base] *",
   "language": "python",
   "name": "conda-base-py"
  },
  "language_info": {
   "codemirror_mode": {
    "name": "ipython",
    "version": 3
   },
   "file_extension": ".py",
   "mimetype": "text/x-python",
   "name": "python",
   "nbconvert_exporter": "python",
   "pygments_lexer": "ipython3",
   "version": "3.12.7"
  }
 },
 "nbformat": 4,
 "nbformat_minor": 5
}
